{
 "cells": [
  {
   "cell_type": "code",
   "execution_count": 4,
   "id": "19ffc02b-ce5b-4456-b608-544b143018c6",
   "metadata": {},
   "outputs": [
    {
     "name": "stdout",
     "output_type": "stream",
     "text": [
      "[2, 3, 5, 7, 11, 13, 17, 19]\n"
     ]
    }
   ],
   "source": [
    "def prime_nums(n):\n",
    "    primes = []\n",
    "    for num in range(2, n + 1):\n",
    "        is_prime = True\n",
    "        for i in range(2, int(num ** 0.5) + 1):\n",
    "            if num % i == 0:\n",
    "                is_prime = False\n",
    "                break\n",
    "        if is_prime:\n",
    "            primes.append(num)\n",
    "    return primes\n",
    "print(prime_nums(20))  "
   ]
  },
  {
   "cell_type": "code",
   "execution_count": 9,
   "id": "fe960986-8b75-4f75-94c0-858b439b8072",
   "metadata": {},
   "outputs": [
    {
     "name": "stdout",
     "output_type": "stream",
     "text": [
      "True\n"
     ]
    }
   ],
   "source": [
    "def is_palindrome(s):\n",
    "    s = s.lower()\n",
    "    s = s.replace(\" \", \"\")\n",
    "    return s == s[::-1]\n",
    "\n",
    "print(is_palindrome(\"Never odd or even\")) \n"
   ]
  },
  {
   "cell_type": "code",
   "execution_count": 7,
   "id": "9c813475-9223-46b2-a364-010c09ce6c94",
   "metadata": {},
   "outputs": [
    {
     "name": "stdout",
     "output_type": "stream",
     "text": [
      "True\n"
     ]
    }
   ],
   "source": [
    "def anagrams(word1, word2):\n",
    "    return sorted(word1) == sorted(word2)\n",
    "\n",
    "print(anagrams(\"listen\", \"silent\")) "
   ]
  },
  {
   "cell_type": "code",
   "execution_count": 10,
   "id": "65e13247-74dc-4110-9a41-f594ce5b2ca1",
   "metadata": {},
   "outputs": [
    {
     "name": "stdout",
     "output_type": "stream",
     "text": [
      "Vowels=2, Consonants=3\n"
     ]
    }
   ],
   "source": [
    "def count_vowels_consonants(s):\n",
    "    vowels = \"aeiouAEIOU\"\n",
    "    vowel_count = 0\n",
    "    consonant_count = 0\n",
    "\n",
    "    for char in s:\n",
    "        if char.isalpha(): \n",
    "            if char in vowels:\n",
    "                vowel_count += 1\n",
    "            else:\n",
    "                consonant_count += 1\n",
    "    return vowel_count, consonant_count\n",
    "\n",
    "v, c = count_vowels_consonants(\"hello\")\n",
    "print(f\"Vowels={v}, Consonants={c}\")\n"
   ]
  },
  {
   "cell_type": "code",
   "execution_count": 8,
   "id": "2e7764c7-2e23-4249-8184-1ceaedc152b2",
   "metadata": {},
   "outputs": [
    {
     "name": "stdout",
     "output_type": "stream",
     "text": [
      "amazing\n"
     ]
    }
   ],
   "source": [
    "def longest_word(sentence):\n",
    "    words = sentence.split()\n",
    "    return max(words, key=len)\n",
    "\n",
    "# Example\n",
    "print(longest_word(\"Python is amazing\"))"
   ]
  },
  {
   "cell_type": "code",
   "execution_count": 12,
   "id": "8dc03ed4-7a24-4cf6-bc4b-57b37166f13b",
   "metadata": {},
   "outputs": [
    {
     "name": "stdout",
     "output_type": "stream",
     "text": [
      "c@P~e,\n"
     ]
    }
   ],
   "source": [
    "import random\n",
    "import string\n",
    "\n",
    "def generate_pass(length):\n",
    "    characters = string.ascii_letters + string.digits + string.punctuation\n",
    "    password = \"\"\n",
    "    for i in range(length):\n",
    "        password += random.choice(characters)\n",
    "    return password\n",
    "\n",
    "print(generate_pass(6))\n"
   ]
  },
  {
   "cell_type": "code",
   "execution_count": 16,
   "id": "9da552d0-e708-4f35-94dc-324ce9ba472d",
   "metadata": {},
   "outputs": [
    {
     "name": "stdout",
     "output_type": "stream",
     "text": [
      "sqrt(25): 5.0\n",
      "factorial(5): 120\n",
      "sin(0): 0.0\n",
      "cos(0): 1.0\n"
     ]
    }
   ],
   "source": [
    "print(\"sqrt(25):\", math.sqrt(25))\n",
    "print(\"factorial(5):\", math.factorial(5))\n",
    "print(\"sin(0):\", math.sin(0))\n",
    "print(\"cos(0):\", math.cos(0))"
   ]
  },
  {
   "cell_type": "code",
   "execution_count": 17,
   "id": "0851cb94-16a0-4312-8162-d8c77d2cce48",
   "metadata": {},
   "outputs": [
    {
     "name": "stdout",
     "output_type": "stream",
     "text": [
      "Word Frequency: {'cat': 2, 'dog': 1}\n"
     ]
    }
   ],
   "source": [
    "from collections import Counter\n",
    "\n",
    "def word_frequency(text):\n",
    "    words = text.split()\n",
    "    return dict(Counter(words))\n",
    "\n",
    "print(\"Word Frequency:\", word_frequency(\"cat dog cat\"))\n"
   ]
  },
  {
   "cell_type": "code",
   "execution_count": 18,
   "id": "2f231643-28d7-4ab3-8905-b6f4692e6f29",
   "metadata": {},
   "outputs": [
    {
     "name": "stdout",
     "output_type": "stream",
     "text": [
      "Weather: Cloudy, Temp: 35°C\n"
     ]
    }
   ],
   "source": [
    "def weather_simulator():\n",
    "    conditions = [\"Sunny\", \"Rainy\", \"Cloudy\", \"Windy\", \"Stormy\"]\n",
    "    temp = random.randint(15, 40) \n",
    "    weather = random.choice(conditions)\n",
    "    return f\"Weather: {weather}, Temp: {temp}°C\"\n",
    "\n",
    "print(weather_simulator())\n"
   ]
  },
  {
   "cell_type": "code",
   "execution_count": 23,
   "id": "a7a3d1d9-1f52-4539-bb5c-6051ea586708",
   "metadata": {},
   "outputs": [
    {
     "name": "stdout",
     "output_type": "stream",
     "text": [
      "5\n",
      "4\n",
      "3\n",
      "2\n",
      "1\n",
      "Time's up!\n"
     ]
    }
   ],
   "source": [
    "def countdown(seconds):\n",
    "    for i in range(seconds, 0, -1):\n",
    "        print(i)\n",
    "        time.sleep(1)\n",
    "    print(\"Time's up!\")\n",
    "\n",
    "countdown(5)"
   ]
  },
  {
   "cell_type": "code",
   "execution_count": 25,
   "id": "5aa9cccf-2ed7-4c9d-9a05-0661816d13ce",
   "metadata": {},
   "outputs": [
    {
     "name": "stdout",
     "output_type": "stream",
     "text": [
      "Balance: 120\n"
     ]
    }
   ],
   "source": [
    "class BankAccount:\n",
    "    def __init__(self, balance=0, owner=None):\n",
    "        self.balance = balance\n",
    "        self.owner = owner\n",
    "\n",
    "    def deposit(self, amount):\n",
    "        if amount > 0:\n",
    "            self.balance += amount\n",
    "\n",
    "    def withdraw(self, amount):\n",
    "        if 0 < amount <= self.balance:\n",
    "            self.balance -= amount\n",
    "\n",
    "    def get_balance(self):\n",
    "        return f\"Balance: {self.balance}\"\n",
    "\n",
    "\n",
    "acc = BankAccount(100)\n",
    "acc.deposit(50)\n",
    "acc.withdraw(30)\n",
    "print(acc.get_balance())\n"
   ]
  },
  {
   "cell_type": "code",
   "execution_count": 27,
   "id": "f267dada-e243-41f8-adcc-3444fdfc6068",
   "metadata": {},
   "outputs": [
    {
     "name": "stdout",
     "output_type": "stream",
     "text": [
      "85.0\n",
      "95\n"
     ]
    }
   ],
   "source": [
    "class Student:\n",
    "    def __init__(self, name, marks=None):\n",
    "        self.name = name\n",
    "        self.marks = marks if marks else []\n",
    "\n",
    "    def get_average(self):\n",
    "        return sum(self.marks) / len(self.marks) if self.marks else 0\n",
    "\n",
    "    def add_mark(self, mark):\n",
    "        self.marks.append(mark)\n",
    "\n",
    "    def get_highest(self):\n",
    "        return max(self.marks) if self.marks else None\n",
    "\n",
    "    def get_lowest(self):\n",
    "        return min(self.marks) if self.marks else None\n",
    "\n",
    "s = Student(\"Tom\", [90, 80, 85])\n",
    "print(s.get_average())   \n",
    "s.add_mark(95)\n",
    "print(s.get_highest())  \n"
   ]
  },
  {
   "cell_type": "code",
   "execution_count": 28,
   "id": "332aec8d-0d32-42f9-962f-8b0ca4e8d386",
   "metadata": {},
   "outputs": [
    {
     "name": "stdout",
     "output_type": "stream",
     "text": [
      "10000.0\n"
     ]
    }
   ],
   "source": [
    "class Employee:\n",
    "    def __init__(self, name, salary):\n",
    "        self.name = name\n",
    "        self.salary = salary\n",
    "\n",
    "    def bonus(self):\n",
    "        return 0\n",
    "\n",
    "\n",
    "class Manager(Employee):\n",
    "    def bonus(self):\n",
    "        return self.salary * 0.20\n",
    "\n",
    "\n",
    "class Developer(Employee):\n",
    "    def bonus(self):\n",
    "        return self.salary * 0.10\n",
    "\n",
    "\n",
    "class Intern(Employee):\n",
    "    def bonus(self):\n",
    "        return self.salary * 0.05\n",
    "\n",
    "\n",
    "m = Manager(\"Alice\", 50000)\n",
    "print(m.bonus())  \n"
   ]
  },
  {
   "cell_type": "code",
   "execution_count": 29,
   "id": "8abfabe9-2011-403a-9532-74c8486de4f9",
   "metadata": {},
   "outputs": [
    {
     "name": "stdout",
     "output_type": "stream",
     "text": [
      "153.94\n",
      "20\n"
     ]
    }
   ],
   "source": [
    "import math\n",
    "\n",
    "class Shape:\n",
    "    def __init__(self, name):\n",
    "        self.name = name\n",
    "\n",
    "    def area(self):\n",
    "        return 0\n",
    "\n",
    "\n",
    "class Circle(Shape):\n",
    "    def __init__(self, radius):\n",
    "        super().__init__(\"Circle\")\n",
    "        self.radius = radius\n",
    "\n",
    "    def area(self):\n",
    "        return round(math.pi * self.radius ** 2, 2)\n",
    "\n",
    "\n",
    "class Rectangle(Shape):\n",
    "    def __init__(self, width, height):\n",
    "        super().__init__(\"Rectangle\")\n",
    "        self.width = width\n",
    "        self.height = height\n",
    "\n",
    "    def area(self):\n",
    "        return self.width * self.height\n",
    "\n",
    "\n",
    "c = Circle(7)\n",
    "print(c.area())  \n",
    "r = Rectangle(4, 5)\n",
    "print(r.area()) "
   ]
  },
  {
   "cell_type": "code",
   "execution_count": 30,
   "id": "9dba97fe-cad2-495d-abcb-a0d561ed9527",
   "metadata": {},
   "outputs": [
    {
     "name": "stdout",
     "output_type": "stream",
     "text": [
      "Total = 2000\n"
     ]
    }
   ],
   "source": [
    "class Order:\n",
    "    def __init__(self):\n",
    "        self.items = {}\n",
    "\n",
    "    def add(self, item, price):\n",
    "        self.items[item] = price\n",
    "\n",
    "    def remove(self, item):\n",
    "        if item in self.items:\n",
    "            del self.items[item]\n",
    "\n",
    "    def calculate_total(self):\n",
    "        return f\"Total = {sum(self.items.values())}\"\n",
    "\n",
    "    def show_items(self):\n",
    "        return list(self.items.keys())\n",
    "\n",
    "order = Order()\n",
    "order.add(\"Shirt\", 500)\n",
    "order.add(\"Shoes\", 1500)\n",
    "print(order.calculate_total()) \n"
   ]
  },
  {
   "cell_type": "code",
   "execution_count": null,
   "id": "982c47ca-0923-4e16-8c3b-af9125ebc5a3",
   "metadata": {},
   "outputs": [],
   "source": []
  }
 ],
 "metadata": {
  "kernelspec": {
   "display_name": "Python 3 (ipykernel)",
   "language": "python",
   "name": "python3"
  },
  "language_info": {
   "codemirror_mode": {
    "name": "ipython",
    "version": 3
   },
   "file_extension": ".py",
   "mimetype": "text/x-python",
   "name": "python",
   "nbconvert_exporter": "python",
   "pygments_lexer": "ipython3",
   "version": "3.11.7"
  }
 },
 "nbformat": 4,
 "nbformat_minor": 5
}
