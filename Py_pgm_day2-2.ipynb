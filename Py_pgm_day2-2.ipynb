{
 "cells": [
  {
   "cell_type": "code",
   "execution_count": 13,
   "id": "ec3f94f3-632a-4042-9889-476769c7ca14",
   "metadata": {},
   "outputs": [
    {
     "name": "stdout",
     "output_type": "stream",
     "text": [
      "Total bill: 310\n"
     ]
    }
   ],
   "source": [
    "p1=50\n",
    "q1=2\n",
    "\n",
    "p2=30\n",
    "q2=5\n",
    "\n",
    "p3=20\n",
    "q3=3\n",
    "\n",
    "price=(p1*q1)+(p2*q2)+(p3*q3)\n",
    "\n",
    "print(\"Total bill:\", price)"
   ]
  },
  {
   "cell_type": "code",
   "execution_count": 6,
   "id": "0d7aae60-d234-4165-8ce7-1581cdd8d3cd",
   "metadata": {},
   "outputs": [
    {
     "name": "stdin",
     "output_type": "stream",
     "text": [
      "Enter first number: 15\n",
      "Enter second number: 4\n"
     ]
    },
    {
     "name": "stdout",
     "output_type": "stream",
     "text": [
      "\n",
      "Addition: 19\n",
      "Subtraction: 11\n",
      "multiplication: 60\n",
      "Division: 3.75\n",
      "Modulo: 3\n"
     ]
    }
   ],
   "source": [
    "a=int(input(\"Enter first number:\"))\n",
    "b=int(input(\"Enter second number:\"))\n",
    "print()\n",
    "print(\"Addition:\",a+b)\n",
    "print(\"Subtraction:\",a-b)\n",
    "print(\"multiplication:\",a*b)\n",
    "print(\"Division:\",a/b)\n",
    "print(\"Modulo:\",a%b)"
   ]
  },
  {
   "cell_type": "code",
   "execution_count": 10,
   "id": "ee325f82-2f49-4cf7-bf09-0b83ef9bc080",
   "metadata": {},
   "outputs": [
    {
     "name": "stdout",
     "output_type": "stream",
     "text": [
      "Grade: A\n"
     ]
    }
   ],
   "source": [
    "marks = 82\n",
    "if marks >= 90:\n",
    "    grade = \"A+\"\n",
    "elif marks >= 80:\n",
    "    grade = \"A\"\n",
    "elif marks >= 70:\n",
    "    grade = \"B\"\n",
    "elif marks >= 60:\n",
    "    grade = \"C\"\n",
    "else:\n",
    "    grade = \"Fail\"\n",
    "print(\"Grade:\", grade)\n"
   ]
  },
  {
   "cell_type": "code",
   "execution_count": 11,
   "id": "5d94d760-aa1e-4f67-8348-f3b115918fc0",
   "metadata": {},
   "outputs": [
    {
     "name": "stdout",
     "output_type": "stream",
     "text": [
      "Highest Marks = 90\n",
      "Lowest Marks = 45\n",
      "Average Marks = 71.4\n"
     ]
    }
   ],
   "source": [
    "marks = [45, 78, 88, 56, 90]\n",
    "\n",
    "highest = max(marks)\n",
    "lowest = min(marks)\n",
    "average = sum(marks) / len(marks)\n",
    "\n",
    "print(\"Highest Marks =\", highest)\n",
    "print(\"Lowest Marks =\", lowest)\n",
    "print(\"Average Marks =\", round(average, 1))\n"
   ]
  },
  {
   "cell_type": "code",
   "execution_count": 19,
   "id": "4cb8b840-6ace-466b-85e4-aa5a83fa34d5",
   "metadata": {},
   "outputs": [
    {
     "name": "stdout",
     "output_type": "stream",
     "text": [
      "Phone Number of Ravi : 9123456780\n"
     ]
    }
   ],
   "source": [
    "phonebook = {\"Suhel\": 9876543210, \"Ravi\": 9123456780, \"Anita\": 9988776655}\n",
    "search_name = \"Ravi\"\n",
    "\n",
    "if search_name in phonebook:\n",
    "    print(\"Phone Number of\", search_name, \":\", phonebook[search_name])\n",
    "else:\n",
    "    print(search_name, \"not found\")\n",
    "    \n"
   ]
  },
  {
   "cell_type": "code",
   "execution_count": 18,
   "id": "d3f40065-75e6-4672-88e9-00985f3d812b",
   "metadata": {},
   "outputs": [
    {
     "name": "stdin",
     "output_type": "stream",
     "text": [
      "Enter sentence:  Python is awesome\n"
     ]
    },
    {
     "name": "stdout",
     "output_type": "stream",
     "text": [
      "Total Words = 3\n",
      "Total Characters = 17\n",
      "Total Vowels = 6\n"
     ]
    }
   ],
   "source": [
    "sentence = input(\"Enter sentence: \")\n",
    "words = sentence.split()\n",
    "characters = len(sentence)\n",
    "vowels = sum(1 for ch in sentence.lower() if ch in \"aeiou\")\n",
    "print(\"Total Words =\", len(words))\n",
    "print(\"Total Characters =\", characters)\n",
    "print(\"Total Vowels =\", vowels)"
   ]
  },
  {
   "cell_type": "code",
   "execution_count": 20,
   "id": "949be9fb-159b-4376-aa15-cd0106418f67",
   "metadata": {},
   "outputs": [
    {
     "name": "stdin",
     "output_type": "stream",
     "text": [
      "Principal:  5000\n",
      "Rate:  5\n",
      "Time:  2\n",
      "Type (Simple/Compound):  Compound\n"
     ]
    },
    {
     "name": "stdout",
     "output_type": "stream",
     "text": [
      "Interest = 512.5\n",
      "Total Amount = 5512.5\n"
     ]
    }
   ],
   "source": [
    "p = float(input(\"Principal: \"))\n",
    "r = float(input(\"Rate: \"))\n",
    "t = float(input(\"Time: \"))\n",
    "itype = input(\"Type (Simple/Compound): \").lower()\n",
    "\n",
    "if itype == \"simple\":\n",
    "    i = (p*r*t)/100\n",
    "elif itype == \"compound\":\n",
    "    i = p*((1+r/100)**t - 1)\n",
    "else:\n",
    "    print(\"Invalid Type\"); exit()\n",
    "\n",
    "print(\"Interest =\", round(i, 2))\n",
    "print(\"Total Amount =\", round(p+i, 2))\n"
   ]
  },
  {
   "cell_type": "code",
   "execution_count": 21,
   "id": "014c40be-1f16-41bb-ba77-244657b57e0d",
   "metadata": {},
   "outputs": [
    {
     "name": "stdin",
     "output_type": "stream",
     "text": [
      "Enter Message:  HELLO\n",
      "Enter Shift:  3\n"
     ]
    },
    {
     "name": "stdout",
     "output_type": "stream",
     "text": [
      "Encrypted Message: KHOOR\n"
     ]
    }
   ],
   "source": [
    "message = input(\"Enter Message: \").upper()\n",
    "shift = int(input(\"Enter Shift: \"))\n",
    "encrypted = \"\"\n",
    "for ch in message:\n",
    "    if ch.isalpha():\n",
    "        encrypted += chr((ord(ch) - 65 + shift) % 26 + 65)\n",
    "    else:\n",
    "        encrypted += ch\n",
    "print(\"Encrypted Message:\", encrypted)"
   ]
  },
  {
   "cell_type": "code",
   "execution_count": 26,
   "id": "2e521549-b41f-45bc-875c-f3b4d2716eb8",
   "metadata": {},
   "outputs": [
    {
     "name": "stdin",
     "output_type": "stream",
     "text": [
      "Enter PIN:  1234\n"
     ]
    },
    {
     "name": "stdout",
     "output_type": "stream",
     "text": [
      "Pin Successful\n"
     ]
    },
    {
     "name": "stdin",
     "output_type": "stream",
     "text": [
      "Withdraw:  5000\n"
     ]
    },
    {
     "name": "stdout",
     "output_type": "stream",
     "text": [
      "Withdrawal Successful. Remaining Balance = 0\n"
     ]
    }
   ],
   "source": [
    "pin, balance = 1234, 5000\n",
    "if int(input(\"Enter PIN: \")) == pin:\n",
    "    print(\"Pin Successful\")\n",
    "    w = int(input(\"Withdraw: \"))\n",
    "    print(\"Withdrawal Successful. Remaining Balance =\", balance-w) if w <= balance else print(\"Insufficient Balance\")\n",
    "else:\n",
    "    print(\"Invalid PIN\")\n"
   ]
  },
  {
   "cell_type": "code",
   "execution_count": 27,
   "id": "093f64ff-0f99-426a-a47b-202fa08c9ad1",
   "metadata": {},
   "outputs": [
    {
     "name": "stdout",
     "output_type": "stream",
     "text": [
      "Current Books: ['Python Basics', 'Data Science', 'AI Fundamentals']\n"
     ]
    },
    {
     "name": "stdin",
     "output_type": "stream",
     "text": [
      "Enter book to add:  Machine Learning\n",
      "Enter book to remove:  Data Science\n"
     ]
    },
    {
     "name": "stdout",
     "output_type": "stream",
     "text": [
      "Current Books: ['Python Basics', 'AI Fundamentals', 'Machine Learning']\n",
      "Total Books: 3\n"
     ]
    }
   ],
   "source": [
    "books = [\"Python Basics\", \"Data Science\", \"AI Fundamentals\"]\n",
    "print(\"Current Books:\", books)\n",
    "\n",
    "add_book = input(\"Enter book to add: \")\n",
    "books.append(add_book)\n",
    "\n",
    "remove_book = input(\"Enter book to remove: \")\n",
    "if remove_book in books:\n",
    "    books.remove(remove_book)\n",
    "\n",
    "print(\"Current Books:\", books)\n",
    "print(\"Total Books:\", len(books))"
   ]
  },
  {
   "cell_type": "code",
   "execution_count": null,
   "id": "def8520f-99a1-4616-baf7-4e746781dce6",
   "metadata": {},
   "outputs": [],
   "source": []
  }
 ],
 "metadata": {
  "kernelspec": {
   "display_name": "Python 3 (ipykernel)",
   "language": "python",
   "name": "python3"
  },
  "language_info": {
   "codemirror_mode": {
    "name": "ipython",
    "version": 3
   },
   "file_extension": ".py",
   "mimetype": "text/x-python",
   "name": "python",
   "nbconvert_exporter": "python",
   "pygments_lexer": "ipython3",
   "version": "3.11.7"
  }
 },
 "nbformat": 4,
 "nbformat_minor": 5
}
