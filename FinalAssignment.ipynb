{
 "cells": [
  {
   "cell_type": "code",
   "execution_count": null,
   "id": "2bc096be",
   "metadata": {},
   "outputs": [
    {
     "name": "stdout",
     "output_type": "stream",
     "text": [
      "Total Price: 54000\n"
     ]
    }
   ],
   "source": [
    "def calculate(items):\n",
    "    if not items:\n",
    "        return 0\n",
    "    total = sum(items.values())\n",
    "    if len(items) > 5:\n",
    "        total = total * 0.9\n",
    "    return total\n",
    "items = {'Laptop': 50000, 'Headphones': 2000, 'Mouse': 500, 'Keyboard': 1500}\n",
    "price = calculate(items)\n",
    "print(\"Total Price:\", int(price))"
   ]
  },
  {
   "cell_type": "code",
   "execution_count": 3,
   "id": "d44aecd8",
   "metadata": {},
   "outputs": [
    {
     "name": "stdout",
     "output_type": "stream",
     "text": [
      "Updated menu: ['Pizza', 'Burger', 'Pasta', 'Tacos']\n",
      "Availability: Pizza is available\n"
     ]
    }
   ],
   "source": [
    "def add(menu, item):\n",
    "    menu.append(item)\n",
    "def remove(menu, item):\n",
    "    if item in menu:\n",
    "        menu.remove(item)\n",
    "def check(menu, item):\n",
    "    if item in menu:\n",
    "        return f\"{item} is available\"\n",
    "    else:\n",
    "        return f\"{item} is not available\"\n",
    "initial= [\"Pizza\", \"Burger\", \"Pasta\", \"Salad\"]\n",
    "add_item = \"Tacos\"\n",
    "remove_item = \"Salad\"\n",
    "check_item = \"Pizza\"\n",
    "add(initial, add_item)\n",
    "remove(initial, remove_item)\n",
    "availability = check(initial, check_item)\n",
    "print(\"Updated menu:\", initial)\n",
    "print(\"Availability:\", availability)"
   ]
  },
  {
   "cell_type": "code",
   "execution_count": null,
   "id": "73d9a358",
   "metadata": {},
   "outputs": [
    {
     "name": "stdout",
     "output_type": "stream",
     "text": [
      "Average Marks: {'John': 85.0, 'Alice': 87.33, 'Bob': 75.0}\n",
      "Top Performer: Alice\n"
     ]
    }
   ],
   "source": [
    "def cal(marks):\n",
    "    return round(sum(marks) / len(marks), 2)\n",
    "students = {\"John\": [85, 78, 92], \"Alice\": [88, 79, 95], \"Bob\": [70, 75, 80]}\n",
    "avg = {}\n",
    "top_student = \"\"\n",
    "top_average = 0\n",
    "for name, marks in students.items():\n",
    "    avg = cal(marks)\n",
    "    avg[name] = avg\n",
    "    if avg > top_average:\n",
    "        top_average = avg\n",
    "        top_student = name\n",
    "print(\"Average Marks:\", avg)\n",
    "print(\"Top Performer:\", top_student)"
   ]
  },
  {
   "cell_type": "code",
   "execution_count": 5,
   "id": "99edb0a6",
   "metadata": {},
   "outputs": [
    {
     "name": "stdout",
     "output_type": "stream",
     "text": [
      "Available seats: [1, 4, 5, 6, 8, 9, 10]\n"
     ]
    }
   ],
   "source": [
    "def get_seats(total, booked):\n",
    "    return [seat for seat in range(1, total + 1) if seat not in booked]\n",
    "def book_seat(booked, seat):\n",
    "    if seat in booked:\n",
    "        print(f\"Seat {seat} is already booked.\")\n",
    "    else:\n",
    "        booked.append(seat)\n",
    "def cancel_seat(booked, seat):\n",
    "    if seat in booked:\n",
    "        booked.remove(seat)\n",
    "total_seats = 10\n",
    "booked_seats = [2, 5, 7]\n",
    "book_seat_number = 3\n",
    "cancel_seat_number = 5\n",
    "book_seat(booked_seats, book_seat_number)\n",
    "cancel_seat(booked_seats, cancel_seat_number)\n",
    "available = get_seats(total_seats, booked_seats)\n",
    "print(\"Available seats:\", available)"
   ]
  },
  {
   "cell_type": "code",
   "execution_count": 6,
   "id": "ae3aaba8",
   "metadata": {},
   "outputs": [
    {
     "name": "stdout",
     "output_type": "stream",
     "text": [
      "Patients with Flu: ['Alice', 'Charlie']\n"
     ]
    }
   ],
   "source": [
    "def disease(patients, disease):\n",
    "    result = []\n",
    "    for patient in patients:\n",
    "        if patient[\"Disease\"] == disease:\n",
    "            result.append(patient[\"Name\"])\n",
    "    return result\n",
    "patients = [\n",
    "    {\"Name\": \"Alice\", \"Age\": 30, \"Disease\": \"Flu\"},\n",
    "    {\"Name\": \"Bob\", \"Age\": 45, \"Disease\": \"Diabetes\"},\n",
    "    {\"Name\": \"Charlie\", \"Age\": 35, \"Disease\": \"Flu\"}\n",
    "]\n",
    "search = \"Flu\"\n",
    "matching_patients = disease(patients, search)\n",
    "print(\"Patients with\", search+ \":\", matching_patients)"
   ]
  },
  {
   "cell_type": "code",
   "execution_count": null,
   "id": "ce653ccd",
   "metadata": {},
   "outputs": [
    {
     "name": "stdout",
     "output_type": "stream",
     "text": [
      "Positive Feedback: 62.5%\n"
     ]
    }
   ],
   "source": [
    "def positive(ratings):\n",
    "    if not ratings:\n",
    "        return 0\n",
    "    positive = [r for r in ratings if r >= 4]\n",
    "    percent = (len(positive) / len(ratings)) * 100\n",
    "    return round(percent, 2)\n",
    "ratings = [5, 4, 3, 5, 2, 4, 1, 5]\n",
    "percent = positive(ratings)\n",
    "print(\"Positive Feedback:\", str(percent) + \"%\")\n"
   ]
  },
  {
   "cell_type": "code",
   "execution_count": 8,
   "id": "434b83dc",
   "metadata": {},
   "outputs": [
    {
     "name": "stdout",
     "output_type": "stream",
     "text": [
      "Trip 1: $100\n",
      "Trip 2: $150\n",
      "Trip 3: $80\n",
      "Total Fare: $330\n"
     ]
    }
   ],
   "source": [
    "def calfare(distance):\n",
    "    base_fare = 50\n",
    "    distance_fare = distance * 10\n",
    "    return base_fare + distance_fare\n",
    "trips = [5, 10, 3]\n",
    "total_fare = 0\n",
    "for i in range(len(trips)):\n",
    "    fare = calfare(trips[i])\n",
    "    print(f\"Trip {i+1}: ${fare}\")\n",
    "    total_fare += fare\n",
    "print(\"Total Fare: $\" + str(total_fare))"
   ]
  }
 ],
 "metadata": {
  "kernelspec": {
   "display_name": "base",
   "language": "python",
   "name": "python3"
  },
  "language_info": {
   "codemirror_mode": {
    "name": "ipython",
    "version": 3
   },
   "file_extension": ".py",
   "mimetype": "text/x-python",
   "name": "python",
   "nbconvert_exporter": "python",
   "pygments_lexer": "ipython3",
   "version": "3.13.5"
  }
 },
 "nbformat": 4,
 "nbformat_minor": 5
}
